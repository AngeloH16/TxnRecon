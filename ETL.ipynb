{
 "cells": [
  {
   "cell_type": "code",
   "execution_count": 72,
   "metadata": {},
   "outputs": [],
   "source": [
    "# CSV Data Ingestion\n",
    "\n",
    "import pandas as pd\n",
    "import glob\n",
    "import shutil\n",
    "import os\n",
    "from dotenv import load_dotenv\n",
    "load_dotenv(override=True)\n",
    "import pyodbc \n",
    "import numpy as np"
   ]
  },
  {
   "cell_type": "markdown",
   "metadata": {},
   "source": [
    "Concat all CSVs in data file to one df"
   ]
  },
  {
   "cell_type": "code",
   "execution_count": 88,
   "metadata": {},
   "outputs": [],
   "source": [
    "path = 'Data'\n",
    "csv_files = glob.glob(path+\"/*.csv\")\n",
    "\n",
    "df_raw_data = pd.DataFrame()\n",
    "\n",
    "for csv in csv_files:\n",
    "    frame = pd.read_csv(csv)\n",
    "    frame['SourceFile'] = os.path.basename(csv)\n",
    "    df_raw_data = pd.concat([df_raw_data,frame])\n",
    "    \n"
   ]
  },
  {
   "cell_type": "markdown",
   "metadata": {},
   "source": [
    "Move files to archive"
   ]
  },
  {
   "cell_type": "code",
   "execution_count": 67,
   "metadata": {},
   "outputs": [],
   "source": [
    "source_dir = 'Data'\n",
    "target_dir = 'Data/Old'\n",
    "    \n",
    "file_names = os.listdir(source_dir)\n",
    "    \n",
    "for file_name in file_names:\n",
    "    shutil.move(os.path.join(source_dir, file_name), target_dir)"
   ]
  },
  {
   "cell_type": "markdown",
   "metadata": {},
   "source": [
    "Update file name to remove PII"
   ]
  },
  {
   "cell_type": "code",
   "execution_count": 89,
   "metadata": {},
   "outputs": [],
   "source": [
    "# Extract the datge of the file \n",
    "df_raw_data['SourceFileDate'] = df_raw_data['SourceFile'].str[32:]\n",
    "\n",
    "# Match the card number to the BW card (from .env)\n",
    "BW = os.getenv('BANKWEST_LAST4')\n",
    "df_raw_data['SourceFile'] = df_raw_data['SourceFile'].str[15:19].apply(lambda x: 'BANKWEST' if x == BW else 'UNKNOWN')\n",
    "\n",
    "# Concat date and card tag\n",
    "df_raw_data['SourceFile'] = df_raw_data['SourceFile'].astype(str)+'_'+df_raw_data['SourceFileDate'].astype(str)\n",
    "\n",
    "# Remove sourcefile column\n",
    "df_raw_data.drop('SourceFileDate', axis = 1, inplace=True)"
   ]
  },
  {
   "cell_type": "markdown",
   "metadata": {},
   "source": [
    "Hash PII"
   ]
  },
  {
   "cell_type": "code",
   "execution_count": 93,
   "metadata": {},
   "outputs": [],
   "source": [
    "df_raw_data['Account Number'] = df_raw_data['Account Number'].apply(hash)\n",
    "df_raw_data['BSB Number'] = df_raw_data['BSB Number'].apply(hash)"
   ]
  },
  {
   "cell_type": "markdown",
   "metadata": {},
   "source": [
    "Clean column names for whitespace"
   ]
  },
  {
   "cell_type": "code",
   "execution_count": 57,
   "metadata": {},
   "outputs": [],
   "source": [
    "df_raw_data.columns = [c.replace(' ', '') for c in df_raw_data.columns]"
   ]
  },
  {
   "cell_type": "markdown",
   "metadata": {},
   "source": [
    "Replace Nulls"
   ]
  },
  {
   "cell_type": "code",
   "execution_count": 58,
   "metadata": {},
   "outputs": [],
   "source": [
    "df_raw_data_clean = df_raw_data.replace(np.nan, '', regex=True)"
   ]
  },
  {
   "cell_type": "markdown",
   "metadata": {},
   "source": [
    "Move files to DB"
   ]
  },
  {
   "cell_type": "code",
   "execution_count": 30,
   "metadata": {},
   "outputs": [],
   "source": [
    "\n",
    "server = os.getenv('SQL_SERVER')\n",
    "database = os.getenv('SQL_DATABASE')\n",
    "cnxn_str = 'DRIVER={SQL Server};server='+server+';Database='+database+';Trusted_Connection=yes;'\n",
    "cnxn = pyodbc.connect(cnxn_str)\n",
    "cursor = cnxn.cursor()\n"
   ]
  },
  {
   "cell_type": "code",
   "execution_count": 31,
   "metadata": {},
   "outputs": [],
   "source": [
    "for index, row in df_raw_data_clean.iterrows():\n",
    "    cursor.execute(\"Insert into raw_txns (BSBNumber,AccountNumber,TransactionDate,Narration,Cheque,Debit,Credit,Balance,TransactionType,SourceFile) Values (?,?,?,?,?,?,?,?,?,?)\", row.BSBNumber,row.AccountNumber,row.TransactionDate,row.Narration,row.Cheque,row.Debit,row.Credit,row.Balance,row.TransactionType,row.SourceFile)\n",
    "cnxn.commit()"
   ]
  },
  {
   "cell_type": "code",
   "execution_count": null,
   "metadata": {},
   "outputs": [],
   "source": [
    "cursor.execute(\"EXEC etl.RawToStd\")\n",
    "cnxn.commit()"
   ]
  }
 ],
 "metadata": {
  "jupytext": {
   "formats": "ipynb,py:percent"
  },
  "kernelspec": {
   "display_name": "DataScience",
   "language": "python",
   "name": "python3"
  },
  "language_info": {
   "codemirror_mode": {
    "name": "ipython",
    "version": 3
   },
   "file_extension": ".py",
   "mimetype": "text/x-python",
   "name": "python",
   "nbconvert_exporter": "python",
   "pygments_lexer": "ipython3",
   "version": "3.11.3"
  }
 },
 "nbformat": 4,
 "nbformat_minor": 2
}
