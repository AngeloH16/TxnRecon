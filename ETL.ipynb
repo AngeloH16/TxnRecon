{
 "cells": [
  {
   "cell_type": "code",
   "execution_count": 15,
   "metadata": {},
   "outputs": [],
   "source": [
    "# CSV Data Ingestion\n",
    "\n",
    "import pandas as pd\n",
    "import glob\n",
    "import shutil\n",
    "from SQLFunctions import *\n",
    "import os\n",
    "from dotenv import load_dotenv\n",
    "load_dotenv(override=True)\n",
    "import psycopg2 \n",
    "from psycopg2 import Error\n",
    "import psycopg2.extras as extras\n",
    "import numpy as np\n",
    "from pathlib import Path\n",
    "from tkinter import filedialog\n"
   ]
  },
  {
   "cell_type": "markdown",
   "metadata": {},
   "source": [
    "Concat all CSVs in data file to one df"
   ]
  },
  {
   "cell_type": "code",
   "execution_count": 16,
   "metadata": {},
   "outputs": [],
   "source": [
    "directory = filedialog.askdirectory()\n",
    "files = glob.glob(directory+\"/*.csv\")"
   ]
  },
  {
   "cell_type": "code",
   "execution_count": 17,
   "metadata": {},
   "outputs": [],
   "source": [
    "\n",
    "df_raw_data = pd.DataFrame()\n",
    "\n",
    "\n",
    "for csv in files:\n",
    "    frame = pd.read_csv(csv)\n",
    "    frame['SourceFile'] = os.path.basename(csv)\n",
    "    df_raw_data = pd.concat([df_raw_data,frame])\n",
    "    \n"
   ]
  },
  {
   "cell_type": "markdown",
   "metadata": {},
   "source": [
    "Clean column names for whitespace"
   ]
  },
  {
   "cell_type": "code",
   "execution_count": 18,
   "metadata": {},
   "outputs": [],
   "source": [
    "df_raw_data.columns = [c.replace(' ', '') for c in df_raw_data.columns]"
   ]
  },
  {
   "cell_type": "markdown",
   "metadata": {},
   "source": [
    "Replace Nulls"
   ]
  },
  {
   "cell_type": "code",
   "execution_count": 19,
   "metadata": {},
   "outputs": [],
   "source": [
    "df_raw_data_clean = df_raw_data.replace(np.nan, '', regex=True)"
   ]
  },
  {
   "cell_type": "markdown",
   "metadata": {},
   "source": [
    "Anonymise data"
   ]
  },
  {
   "cell_type": "code",
   "execution_count": 20,
   "metadata": {},
   "outputs": [],
   "source": [
    "df_raw_data_clean[\"AccountNumber\"] = '************'+df_raw_data_clean[\"AccountNumber\"].str[-4:]"
   ]
  },
  {
   "cell_type": "code",
   "execution_count": 21,
   "metadata": {},
   "outputs": [],
   "source": [
    "df_raw_data_clean[\"SourceFile\"] = df_raw_data_clean[\"SourceFile\"].str[-26:]"
   ]
  },
  {
   "cell_type": "markdown",
   "metadata": {},
   "source": [
    "## Move files to DB"
   ]
  },
  {
   "cell_type": "markdown",
   "metadata": {},
   "source": [
    "Test Connect to DB"
   ]
  },
  {
   "cell_type": "code",
   "execution_count": 22,
   "metadata": {},
   "outputs": [
    {
     "name": "stdout",
     "output_type": "stream",
     "text": [
      "Connection Test Passed <connection object at 0x0000025D7CE37890; dsn: 'user=postgres password=xxx dbname=postgres host=localhost port=5432', closed: 0> \n",
      "\n"
     ]
    }
   ],
   "source": [
    "connection = psycopg2.connect(user=os.getenv('POSTGRES_USER'),\n",
    "                                  password=os.getenv('POSTGRES_PASSWORD'),\n",
    "                                  host=os.getenv('POSTGRES_HOST'),\n",
    "                                  port=os.getenv('POSTGRES_PORT'),\n",
    "                                  database=os.getenv('POSTGRES_DATABASE'))\n",
    "connection_test(connection)"
   ]
  },
  {
   "cell_type": "markdown",
   "metadata": {},
   "source": [
    "Funciton for insert into raw"
   ]
  },
  {
   "cell_type": "markdown",
   "metadata": {},
   "source": [
    "Insert into Raw"
   ]
  },
  {
   "cell_type": "code",
   "execution_count": 23,
   "metadata": {},
   "outputs": [],
   "source": [
    "connection = psycopg2.connect(user=os.getenv('POSTGRES_USER'),\n",
    "                                  password=os.getenv('POSTGRES_PASSWORD'),\n",
    "                                  host=os.getenv('POSTGRES_HOST'),\n",
    "                                  port=os.getenv('POSTGRES_PORT'),\n",
    "                                  database=os.getenv('POSTGRES_DATABASE'))\n",
    "\n",
    "insert_values(connection,df_raw_data_clean,'etl.raw_txns')"
   ]
  },
  {
   "cell_type": "markdown",
   "metadata": {},
   "source": [
    "Call ETL proc"
   ]
  },
  {
   "cell_type": "code",
   "execution_count": 25,
   "metadata": {},
   "outputs": [],
   "source": [
    "connection = psycopg2.connect(user=os.getenv('POSTGRES_USER'),\n",
    "                                  password=os.getenv('POSTGRES_PASSWORD'),\n",
    "                                  host=os.getenv('POSTGRES_HOST'),\n",
    "                                  port=os.getenv('POSTGRES_PORT'),\n",
    "                                  database=os.getenv('POSTGRES_DATABASE'))\n",
    "\n",
    "execute_proc(connection,'etl.RawToStd()')\n",
    "\n"
   ]
  },
  {
   "cell_type": "markdown",
   "metadata": {},
   "source": [
    "Read in logging"
   ]
  },
  {
   "cell_type": "code",
   "execution_count": 26,
   "metadata": {},
   "outputs": [],
   "source": [
    "query = 'select recordcount,AffectedTable,calledproc from  etl.log l inner join (select max(id) as max_id from etl.log) m on l.id = m.max_id'\n",
    "column_names = ['recordcount','AffectedTable','calledproc']"
   ]
  },
  {
   "cell_type": "code",
   "execution_count": 27,
   "metadata": {},
   "outputs": [],
   "source": [
    "connection = psycopg2.connect(user=os.getenv('POSTGRES_USER'),\n",
    "                                  password=os.getenv('POSTGRES_PASSWORD'),\n",
    "                                  host=os.getenv('POSTGRES_HOST'),\n",
    "                                  port=os.getenv('POSTGRES_PORT'),\n",
    "                                  database=os.getenv('POSTGRES_DATABASE'))\n",
    "\n",
    "\n",
    "log = postgresql_to_dataframe(connection, query, column_names)"
   ]
  },
  {
   "cell_type": "code",
   "execution_count": 28,
   "metadata": {},
   "outputs": [
    {
     "name": "stdout",
     "output_type": "stream",
     "text": [
      "0    89 rows inserted into etl.std_txns by etl.RawT...\n",
      "dtype: object\n"
     ]
    }
   ],
   "source": [
    "print(log.recordcount.map(str)+' rows inserted into '+log.AffectedTable.map(str)+' by '+log.calledproc.map(str))"
   ]
  },
  {
   "cell_type": "markdown",
   "metadata": {},
   "source": [
    "Convert to py script"
   ]
  },
  {
   "cell_type": "code",
   "execution_count": 29,
   "metadata": {},
   "outputs": [
    {
     "name": "stderr",
     "output_type": "stream",
     "text": [
      "[NbConvertApp] Converting notebook ETL.ipynb to script\n",
      "[NbConvertApp] Writing 3333 bytes to ETL.py\n"
     ]
    }
   ],
   "source": [
    "!jupyter nbconvert --to script ETL.ipynb"
   ]
  }
 ],
 "metadata": {
  "kernelspec": {
   "display_name": "DataScience",
   "language": "python",
   "name": "python3"
  },
  "language_info": {
   "codemirror_mode": {
    "name": "ipython",
    "version": 3
   },
   "file_extension": ".py",
   "mimetype": "text/x-python",
   "name": "python",
   "nbconvert_exporter": "python",
   "pygments_lexer": "ipython3",
   "version": "3.10.12"
  },
  "orig_nbformat": 4
 },
 "nbformat": 4,
 "nbformat_minor": 2
}
