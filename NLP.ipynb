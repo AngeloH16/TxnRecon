{
 "cells": [
  {
   "cell_type": "code",
   "execution_count": 1,
   "metadata": {},
   "outputs": [],
   "source": [
    "# Text Classification\n",
    "\n",
    "import pandas as pd\n",
    "import os\n",
    "import pyodbc \n",
    "import numpy as np\n",
    "import matplotlib\n",
    "\n",
    "\n",
    "import joblib\n",
    "import re\n",
    "import string\n",
    "\n",
    "import sklearn\n",
    "from sklearn.feature_extraction.text import CountVectorizer\n",
    "from sklearn.metrics import accuracy_score, cohen_kappa_score, f1_score, classification_report\n",
    "from sklearn.model_selection import StratifiedKFold, train_test_split\n",
    "from sklearn.naive_bayes import MultinomialNB\n"
   ]
  },
  {
   "cell_type": "code",
   "execution_count": 2,
   "metadata": {},
   "outputs": [],
   "source": [
    "server = os.getenv('SQL_SERVER')\n",
    "database = os.getenv('SQL_DATABASE')\n",
    "cnxn_str = 'DRIVER={SQL Server};server='+server+';Database='+database+';Trusted_Connection=yes;'\n",
    "cnxn = pyodbc.connect(cnxn_str)\n",
    "cursor = cnxn.cursor()\n"
   ]
  },
  {
   "cell_type": "code",
   "execution_count": 3,
   "metadata": {},
   "outputs": [
    {
     "name": "stderr",
     "output_type": "stream",
     "text": [
      "C:\\Users\\Angelo\\AppData\\Local\\Temp\\ipykernel_25172\\1142613082.py:2: UserWarning: pandas only supports SQLAlchemy connectable (engine/connection) or database string URI or sqlite3 DBAPI2 connection. Other DBAPI2 objects are not tested. Please consider using SQLAlchemy.\n",
      "  data =  pd.read_sql(sql,cnxn)\n"
     ]
    }
   ],
   "source": [
    "sql = \"select * from std_txns\"\n",
    "data =  pd.read_sql(sql,cnxn) "
   ]
  },
  {
   "cell_type": "code",
   "execution_count": 4,
   "metadata": {},
   "outputs": [],
   "source": [
    "def process_text(text):\n",
    "    text = str(text).lower()\n",
    "    text = re.sub(\n",
    "        f\"[{re.escape(string.punctuation)}]\", \" \", text\n",
    "    )\n",
    "    text = \" \".join(text.split())\n",
    "    return text\n",
    "\n",
    "data[\"NarrationClean\"] = data.Narration.map(process_text)"
   ]
  },
  {
   "cell_type": "code",
   "execution_count": 5,
   "metadata": {},
   "outputs": [],
   "source": [
    "data[\"Category\"] = None"
   ]
  },
  {
   "cell_type": "code",
   "execution_count": 6,
   "metadata": {},
   "outputs": [],
   "source": [
    "df_train, df_test = train_test_split(data, test_size=0.20)"
   ]
  },
  {
   "cell_type": "code",
   "execution_count": 8,
   "metadata": {},
   "outputs": [],
   "source": []
  },
  {
   "cell_type": "code",
   "execution_count": 13,
   "metadata": {},
   "outputs": [
    {
     "data": {
      "text/plain": [
       "89     None\n",
       "118    None\n",
       "200    None\n",
       "153    None\n",
       "267    None\n",
       "229    None\n",
       "173    None\n",
       "86     None\n",
       "78     None\n",
       "291    None\n",
       "115    None\n",
       "162    None\n",
       "126    None\n",
       "64     None\n",
       "44     None\n",
       "59     None\n",
       "57     None\n",
       "171    None\n",
       "222    None\n",
       "251    None\n",
       "257    None\n",
       "130    None\n",
       "70     None\n",
       "125    None\n",
       "258    None\n",
       "88     None\n",
       "97     None\n",
       "22     None\n",
       "18     None\n",
       "34     None\n",
       "148    None\n",
       "82     None\n",
       "185    None\n",
       "24     None\n",
       "109    None\n",
       "128    None\n",
       "232    None\n",
       "255    None\n",
       "239    None\n",
       "69     None\n",
       "235    None\n",
       "220    None\n",
       "151    None\n",
       "43     None\n",
       "273    None\n",
       "238    None\n",
       "103    None\n",
       "198    None\n",
       "247    None\n",
       "74     None\n",
       "99     None\n",
       "47     None\n",
       "160    None\n",
       "268    None\n",
       "104    None\n",
       "52     None\n",
       "282    None\n",
       "16     None\n",
       "192    None\n",
       "165    None\n",
       "Name: Category, dtype: object"
      ]
     },
     "execution_count": 13,
     "metadata": {},
     "output_type": "execute_result"
    }
   ],
   "source": [
    "y_test"
   ]
  }
 ],
 "metadata": {
  "kernelspec": {
   "display_name": "DataScience",
   "language": "python",
   "name": "python3"
  },
  "language_info": {
   "codemirror_mode": {
    "name": "ipython",
    "version": 3
   },
   "file_extension": ".py",
   "mimetype": "text/x-python",
   "name": "python",
   "nbconvert_exporter": "python",
   "pygments_lexer": "ipython3",
   "version": "3.10.12"
  },
  "orig_nbformat": 4
 },
 "nbformat": 4,
 "nbformat_minor": 2
}
